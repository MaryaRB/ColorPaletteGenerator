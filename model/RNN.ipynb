{
 "cells": [
  {
   "cell_type": "markdown",
   "metadata": {},
   "source": [
    "## Color Generator Model Using Keras Neural Network\n",
    "In this notebook, I'll implement a recursive neural network (RNN) using keras package, this model will take words and generate a color related to this word. We will start by Tokenize the words in our dataframe to a character level, then one-hot encoding it, and finally training our network. This notebook is build following the same procedure as Tony607 from his Github repository and his blog post, the links are provided at the end of this notebook."
   ]
  },
  {
   "cell_type": "markdown",
   "metadata": {},
   "source": [
    "### 1- Importing Packages"
   ]
  },
  {
   "cell_type": "code",
   "execution_count": 2,
   "metadata": {},
   "outputs": [],
   "source": [
    "from keras import preprocessing\n",
    "from keras.preprocessing.text import Tokenizer\n",
    "from keras.models import Sequential\n",
    "from keras.layers import Dense, LSTM\n",
    "from keras.utils import np_utils\n",
    "import json\n",
    "import io\n",
    "\n",
    "import scipy.stats as stats\n",
    "import pylab as plt\n",
    "import numpy as np\n",
    "import pandas as pd\n"
   ]
  },
  {
   "cell_type": "markdown",
   "metadata": {},
   "source": [
    "### 2- Loading Dataset"
   ]
  },
  {
   "cell_type": "code",
   "execution_count": 3,
   "metadata": {},
   "outputs": [
    {
     "data": {
      "text/html": [
       "<div>\n",
       "<style scoped>\n",
       "    .dataframe tbody tr th:only-of-type {\n",
       "        vertical-align: middle;\n",
       "    }\n",
       "\n",
       "    .dataframe tbody tr th {\n",
       "        vertical-align: top;\n",
       "    }\n",
       "\n",
       "    .dataframe thead th {\n",
       "        text-align: right;\n",
       "    }\n",
       "</style>\n",
       "<table border=\"1\" class=\"dataframe\">\n",
       "  <thead>\n",
       "    <tr style=\"text-align: right;\">\n",
       "      <th></th>\n",
       "      <th>word</th>\n",
       "      <th>red</th>\n",
       "      <th>green</th>\n",
       "      <th>blue</th>\n",
       "    </tr>\n",
       "  </thead>\n",
       "  <tbody>\n",
       "    <tr>\n",
       "      <th>0</th>\n",
       "      <td>parakeet</td>\n",
       "      <td>174</td>\n",
       "      <td>182</td>\n",
       "      <td>87</td>\n",
       "    </tr>\n",
       "    <tr>\n",
       "      <th>1</th>\n",
       "      <td>saddle brown</td>\n",
       "      <td>88</td>\n",
       "      <td>52</td>\n",
       "      <td>1</td>\n",
       "    </tr>\n",
       "    <tr>\n",
       "      <th>2</th>\n",
       "      <td>cucumber crush</td>\n",
       "      <td>222</td>\n",
       "      <td>237</td>\n",
       "      <td>215</td>\n",
       "    </tr>\n",
       "    <tr>\n",
       "      <th>3</th>\n",
       "      <td>pool blue</td>\n",
       "      <td>134</td>\n",
       "      <td>194</td>\n",
       "      <td>201</td>\n",
       "    </tr>\n",
       "    <tr>\n",
       "      <th>4</th>\n",
       "      <td>distance</td>\n",
       "      <td>98</td>\n",
       "      <td>110</td>\n",
       "      <td>130</td>\n",
       "    </tr>\n",
       "  </tbody>\n",
       "</table>\n",
       "</div>"
      ],
      "text/plain": [
       "             word  red  green  blue\n",
       "0        parakeet  174    182    87\n",
       "1    saddle brown   88     52     1\n",
       "2  cucumber crush  222    237   215\n",
       "3       pool blue  134    194   201\n",
       "4        distance   98    110   130"
      ]
     },
     "execution_count": 3,
     "metadata": {},
     "output_type": "execute_result"
    }
   ],
   "source": [
    "df = pd.read_csv('../data/final_dataset.csv')\n",
    "df.head()"
   ]
  },
  {
   "cell_type": "markdown",
   "metadata": {},
   "source": [
    "### 3- Tokenizing the Words to a Character level\n",
    "When feeding data to neural network, the data must be in a numerical format, either integers or floats, the network can't understand strings and characters. To solve this, we will perform what something called Tokenizing. Tokenizing is like encrypting each word to a number, however we will encrypt each litter to a number, so we will have a total of 28 numbers that represents each letter. More and better explanation is provided in the blog post linked at the end of this notebook."
   ]
  },
  {
   "cell_type": "code",
   "execution_count": 4,
   "metadata": {},
   "outputs": [
    {
     "data": {
      "text/plain": [
       "30"
      ]
     },
     "execution_count": 4,
     "metadata": {},
     "output_type": "execute_result"
    }
   ],
   "source": [
    "#saving our words in a time series\n",
    "words = df[\"word\"]\n",
    "#sorting the words with respect to length and save it to numpy array\n",
    "h = sorted(words.str.len())\n",
    "#checking the max of length of our words\n",
    "np.array(h).max()"
   ]
  },
  {
   "cell_type": "code",
   "execution_count": 10,
   "metadata": {},
   "outputs": [
    {
     "data": {
      "text/plain": [
       "(31612, 30)"
      ]
     },
     "execution_count": 10,
     "metadata": {},
     "output_type": "execute_result"
    }
   ],
   "source": [
    "maxlen = np.array(h).max()\n",
    "#initialising the tokenizer with character level enabeled \n",
    "t = Tokenizer(char_level=True)\n",
    "#fitting the tokenizer to our words\n",
    "t.fit_on_texts(words)\n",
    "#saving the tekonized words\n",
    "tokenized = t.texts_to_sequences(words)\n",
    "#turn it to a 2d numpy arrays\n",
    "padded_words = preprocessing.sequence.pad_sequences(tokenized, maxlen=maxlen)\n",
    "#let's take a look\n",
    "padded_words.shape"
   ]
  },
  {
   "cell_type": "markdown",
   "metadata": {},
   "source": [
    "### 4- One-hot Encoding"
   ]
  },
  {
   "cell_type": "code",
   "execution_count": 11,
   "metadata": {},
   "outputs": [
    {
     "data": {
      "text/plain": [
       "28"
      ]
     },
     "execution_count": 11,
     "metadata": {},
     "output_type": "execute_result"
    }
   ],
   "source": [
    "one_hot_words = np_utils.to_categorical(padded_words)\n",
    "num_classes = one_hot_words.shape[-1]\n",
    "num_classes"
   ]
  },
  {
   "cell_type": "code",
   "execution_count": 12,
   "metadata": {},
   "outputs": [
    {
     "data": {
      "text/plain": [
       "(31612, 30, 28)"
      ]
     },
     "execution_count": 12,
     "metadata": {},
     "output_type": "execute_result"
    }
   ],
   "source": [
    "#checking the shape\n",
    "one_hot_words.shape"
   ]
  },
  {
   "cell_type": "code",
   "execution_count": 13,
   "metadata": {},
   "outputs": [
    {
     "data": {
      "text/plain": [
       "{'e': 1,\n",
       " 'a': 2,\n",
       " 'r': 3,\n",
       " 'i': 4,\n",
       " 'n': 5,\n",
       " 'o': 6,\n",
       " 's': 7,\n",
       " 'l': 8,\n",
       " 't': 9,\n",
       " ' ': 10,\n",
       " 'c': 11,\n",
       " 'u': 12,\n",
       " 'd': 13,\n",
       " 'm': 14,\n",
       " 'g': 15,\n",
       " 'p': 16,\n",
       " 'h': 17,\n",
       " 'b': 18,\n",
       " 'y': 19,\n",
       " 'w': 20,\n",
       " 'f': 21,\n",
       " 'k': 22,\n",
       " 'v': 23,\n",
       " 'z': 24,\n",
       " 'q': 25,\n",
       " 'j': 26,\n",
       " 'x': 27}"
      ]
     },
     "execution_count": 13,
     "metadata": {},
     "output_type": "execute_result"
    }
   ],
   "source": [
    "#taking a look at the encryption (our dictionary)\n",
    "t.word_index"
   ]
  },
  {
   "cell_type": "markdown",
   "metadata": {},
   "source": [
    "### 5- Normalizing the color values\n",
    "Our RGB color format ranges from 0 to 255, It's always a better approach to normalize values to be from 0 to 1 when feeding it to neural networks."
   ]
  },
  {
   "cell_type": "code",
   "execution_count": 14,
   "metadata": {},
   "outputs": [],
   "source": [
    "# The RGB values are between 0 - 255\n",
    "# scale them to be between 0 - 1\n",
    "def norm(value):\n",
    "    return value / 255.0\n",
    "\n",
    "normalized_values = np.column_stack([norm(df[\"red\"]), norm(df[\"green\"]), norm(df[\"blue\"])])"
   ]
  },
  {
   "cell_type": "markdown",
   "metadata": {},
   "source": [
    "### 6- RNN Model\n",
    "We can finally define and train our RNN model, the training takes around 45 mins, you can skip the training and just load the weights and jump the prediction section. The network consists of 4 layers, two LSTM layers, one dense relu layer, and one dense sigmoid layer. The used optimizer is adam and the metric is MSE. We didn't perform test, train split but we used a validation of 0.1 for each epoch. after We also performed a training with the full set without validation, to feed our network with as most words as possible."
   ]
  },
  {
   "cell_type": "code",
   "execution_count": 15,
   "metadata": {},
   "outputs": [
    {
     "name": "stdout",
     "output_type": "stream",
     "text": [
      "Model: \"sequential\"\n",
      "_________________________________________________________________\n",
      " Layer (type)                Output Shape              Param #   \n",
      "=================================================================\n",
      " lstm (LSTM)                 (None, 30, 256)           291840    \n",
      "                                                                 \n",
      " lstm_1 (LSTM)               (None, 128)               197120    \n",
      "                                                                 \n",
      " dense (Dense)               (None, 128)               16512     \n",
      "                                                                 \n",
      " dense_1 (Dense)             (None, 3)                 387       \n",
      "                                                                 \n",
      "=================================================================\n",
      "Total params: 505,859\n",
      "Trainable params: 505,859\n",
      "Non-trainable params: 0\n",
      "_________________________________________________________________\n"
     ]
    }
   ],
   "source": [
    "#defining our model\n",
    "model = Sequential()\n",
    "model.add(LSTM(256, return_sequences=True, input_shape=(maxlen, num_classes)))\n",
    "model.add(LSTM(128))\n",
    "model.add(Dense(128, activation='relu'))\n",
    "model.add(Dense(3, activation='sigmoid'))\n",
    "model.compile(optimizer='adam', loss='mse', metrics=['acc'])\n",
    "model.summary()"
   ]
  },
  {
   "cell_type": "code",
   "execution_count": 16,
   "metadata": {},
   "outputs": [],
   "source": [
    "#load the model if you don't want to wait for the training \n",
    "model.load_weights('RNN_model.h5')"
   ]
  },
  {
   "cell_type": "code",
   "execution_count": 17,
   "metadata": {},
   "outputs": [
    {
     "name": "stdout",
     "output_type": "stream",
     "text": [
      "Epoch 1/30\n",
      "445/445 [==============================] - 92s 196ms/step - loss: 0.0347 - acc: 0.7370 - val_loss: 0.0828 - val_acc: 0.6199\n",
      "Epoch 2/30\n",
      "445/445 [==============================] - 85s 190ms/step - loss: 0.0340 - acc: 0.7411 - val_loss: 0.0864 - val_acc: 0.6085\n",
      "Epoch 3/30\n",
      "445/445 [==============================] - 85s 191ms/step - loss: 0.0338 - acc: 0.7436 - val_loss: 0.0872 - val_acc: 0.5832\n",
      "Epoch 4/30\n",
      "445/445 [==============================] - 90s 202ms/step - loss: 0.0337 - acc: 0.7452 - val_loss: 0.0895 - val_acc: 0.5952\n",
      "Epoch 5/30\n",
      "445/445 [==============================] - 94s 211ms/step - loss: 0.0336 - acc: 0.7474 - val_loss: 0.0896 - val_acc: 0.5892\n",
      "Epoch 6/30\n",
      "445/445 [==============================] - 87s 195ms/step - loss: 0.0335 - acc: 0.7471 - val_loss: 0.0905 - val_acc: 0.5857\n",
      "Epoch 7/30\n",
      "445/445 [==============================] - 86s 194ms/step - loss: 0.0334 - acc: 0.7494 - val_loss: 0.0922 - val_acc: 0.6056\n",
      "Epoch 8/30\n",
      "445/445 [==============================] - 86s 193ms/step - loss: 0.0334 - acc: 0.7480 - val_loss: 0.0911 - val_acc: 0.5889\n",
      "Epoch 9/30\n",
      "445/445 [==============================] - 85s 192ms/step - loss: 0.0333 - acc: 0.7529 - val_loss: 0.0918 - val_acc: 0.5835\n",
      "Epoch 10/30\n",
      "445/445 [==============================] - 84s 188ms/step - loss: 0.0333 - acc: 0.7502 - val_loss: 0.0920 - val_acc: 0.5952\n",
      "Epoch 11/30\n",
      "445/445 [==============================] - 84s 188ms/step - loss: 0.0332 - acc: 0.7538 - val_loss: 0.0922 - val_acc: 0.5917\n",
      "Epoch 12/30\n",
      "445/445 [==============================] - 80s 179ms/step - loss: 0.0332 - acc: 0.7536 - val_loss: 0.0925 - val_acc: 0.5746\n",
      "Epoch 13/30\n",
      "445/445 [==============================] - 75s 168ms/step - loss: 0.0332 - acc: 0.7547 - val_loss: 0.0924 - val_acc: 0.5664\n",
      "Epoch 14/30\n",
      "445/445 [==============================] - 74s 166ms/step - loss: 0.0331 - acc: 0.7549 - val_loss: 0.0926 - val_acc: 0.5762\n",
      "Epoch 15/30\n",
      "445/445 [==============================] - 74s 167ms/step - loss: 0.0331 - acc: 0.7554 - val_loss: 0.0929 - val_acc: 0.5797\n",
      "Epoch 16/30\n",
      "445/445 [==============================] - 73s 164ms/step - loss: 0.0330 - acc: 0.7601 - val_loss: 0.0925 - val_acc: 0.5810\n",
      "Epoch 17/30\n",
      "445/445 [==============================] - 73s 165ms/step - loss: 0.0330 - acc: 0.7566 - val_loss: 0.0924 - val_acc: 0.5832\n",
      "Epoch 18/30\n",
      "445/445 [==============================] - 73s 164ms/step - loss: 0.0330 - acc: 0.7563 - val_loss: 0.0930 - val_acc: 0.5870\n",
      "Epoch 19/30\n",
      "445/445 [==============================] - 74s 166ms/step - loss: 0.0329 - acc: 0.7595 - val_loss: 0.0931 - val_acc: 0.5769\n",
      "Epoch 20/30\n",
      "445/445 [==============================] - 73s 165ms/step - loss: 0.0330 - acc: 0.7570 - val_loss: 0.0934 - val_acc: 0.5753\n",
      "Epoch 21/30\n",
      "445/445 [==============================] - 73s 165ms/step - loss: 0.0329 - acc: 0.7596 - val_loss: 0.0925 - val_acc: 0.5721\n",
      "Epoch 22/30\n",
      "445/445 [==============================] - 73s 164ms/step - loss: 0.0329 - acc: 0.7608 - val_loss: 0.0935 - val_acc: 0.5778\n",
      "Epoch 23/30\n",
      "445/445 [==============================] - 73s 164ms/step - loss: 0.0328 - acc: 0.7617 - val_loss: 0.0935 - val_acc: 0.5819\n",
      "Epoch 24/30\n",
      "445/445 [==============================] - 72s 163ms/step - loss: 0.0329 - acc: 0.7622 - val_loss: 0.0931 - val_acc: 0.5832\n",
      "Epoch 25/30\n",
      "445/445 [==============================] - 73s 163ms/step - loss: 0.0328 - acc: 0.7600 - val_loss: 0.0936 - val_acc: 0.5835\n",
      "Epoch 26/30\n",
      "445/445 [==============================] - 72s 163ms/step - loss: 0.0328 - acc: 0.7641 - val_loss: 0.0936 - val_acc: 0.5882\n",
      "Epoch 27/30\n",
      "445/445 [==============================] - 72s 163ms/step - loss: 0.0328 - acc: 0.7612 - val_loss: 0.0936 - val_acc: 0.5854\n",
      "Epoch 28/30\n",
      "445/445 [==============================] - 72s 161ms/step - loss: 0.0327 - acc: 0.7637 - val_loss: 0.0940 - val_acc: 0.5787\n",
      "Epoch 29/30\n",
      "445/445 [==============================] - 72s 162ms/step - loss: 0.0327 - acc: 0.7626 - val_loss: 0.0944 - val_acc: 0.5645\n",
      "Epoch 30/30\n",
      "445/445 [==============================] - 73s 164ms/step - loss: 0.0327 - acc: 0.7637 - val_loss: 0.0941 - val_acc: 0.5835\n"
     ]
    }
   ],
   "source": [
    "#training the model, this will take more than 30 mins be aware\n",
    "history = model.fit(one_hot_words, normalized_values,\n",
    "                    epochs=30,\n",
    "                    batch_size=64,\n",
    "                    validation_split=0.1)"
   ]
  },
  {
   "cell_type": "code",
   "execution_count": 18,
   "metadata": {},
   "outputs": [
    {
     "name": "stdout",
     "output_type": "stream",
     "text": [
      "Epoch 1/10\n",
      "510/510 [==============================] - 79s 155ms/step - loss: 0.0390 - acc: 0.7461\n",
      "Epoch 2/10\n",
      "510/510 [==============================] - 79s 156ms/step - loss: 0.0387 - acc: 0.7463\n",
      "Epoch 3/10\n",
      "510/510 [==============================] - 80s 156ms/step - loss: 0.0385 - acc: 0.7481\n",
      "Epoch 4/10\n",
      "510/510 [==============================] - 81s 158ms/step - loss: 0.0384 - acc: 0.7453\n",
      "Epoch 5/10\n",
      "510/510 [==============================] - 80s 157ms/step - loss: 0.0383 - acc: 0.7491\n",
      "Epoch 6/10\n",
      "510/510 [==============================] - 80s 157ms/step - loss: 0.0383 - acc: 0.7478\n",
      "Epoch 7/10\n",
      "510/510 [==============================] - 80s 157ms/step - loss: 0.0382 - acc: 0.7519\n",
      "Epoch 8/10\n",
      "510/510 [==============================] - 81s 158ms/step - loss: 0.0382 - acc: 0.7523\n",
      "Epoch 9/10\n",
      "510/510 [==============================] - 80s 156ms/step - loss: 0.0381 - acc: 0.7504\n",
      "Epoch 10/10\n",
      "510/510 [==============================] - 77s 151ms/step - loss: 0.0381 - acc: 0.7514\n"
     ]
    },
    {
     "data": {
      "text/plain": [
       "<keras.callbacks.History at 0x1a7119920e0>"
      ]
     },
     "execution_count": 18,
     "metadata": {},
     "output_type": "execute_result"
    }
   ],
   "source": [
    "# Optionally continue to train with all data and no validation\n",
    "model.fit(one_hot_words, normalized_values,\n",
    "                    epochs=10,\n",
    "                    batch_size=62)"
   ]
  },
  {
   "cell_type": "code",
   "execution_count": 19,
   "metadata": {},
   "outputs": [],
   "source": [
    "# Saving the model that we've trained.\n",
    "model.save_weights('RNN_model.h5')"
   ]
  },
  {
   "cell_type": "code",
   "execution_count": 20,
   "metadata": {},
   "outputs": [
    {
     "data": {
      "image/png": "[encoded data removed]",
      "text/plain": [
       "<Figure size 432x288 with 1 Axes>"
      ]
     },
     "metadata": {
      "needs_background": "light"
     },
     "output_type": "display_data"
    },
    {
     "data": {
      "image/png": "[encoded data removed]",
      "text/plain": [
       "<Figure size 432x288 with 1 Axes>"
      ]
     },
     "metadata": {
      "needs_background": "light"
     },
     "output_type": "display_data"
    }
   ],
   "source": [
    "#taking a look at the accuracy of our model\n",
    "\n",
    "acc = history.history['acc']\n",
    "val_acc = history.history['val_acc']\n",
    "loss = history.history['loss']\n",
    "val_loss = history.history['val_loss']\n",
    "\n",
    "epochs = range(len(acc))\n",
    "\n",
    "plt.plot(epochs, acc, 'bo', label='Training acc')\n",
    "plt.plot(epochs, val_acc, 'b', label='Validation acc')\n",
    "plt.title('Training and validation accuracy')\n",
    "plt.legend()\n",
    "\n",
    "plt.figure()\n",
    "\n",
    "plt.plot(epochs, loss, 'bo', label='Training loss')\n",
    "plt.plot(epochs, val_loss, 'b', label='Validation loss')\n",
    "plt.title('Training and validation loss')\n",
    "plt.legend()\n",
    "\n",
    "plt.show()\n"
   ]
  },
  {
   "cell_type": "markdown",
   "metadata": {},
   "source": [
    "We got around 75% accuracy for the training and around 60% for the validation but it wasn't very stable, I believe the model can be improved with some modification in the data and maybe small changes to the network structure, yet this result is OK for now and I'll proceed to try the model with some words."
   ]
  },
  {
   "cell_type": "markdown",
   "metadata": {},
   "source": [
    "### 7- Predicting Using the Model (Generating Colors)"
   ]
  },
  {
   "cell_type": "code",
   "execution_count": 22,
   "metadata": {},
   "outputs": [],
   "source": [
    "#defining the methods that we need\n",
    "\n",
    "# Plot a color image.\n",
    "def plot_rgb(rgb):\n",
    "    data = [[rgb]]\n",
    "    plt.figure(figsize=(2,2))\n",
    "    plt.imshow(data, interpolation='nearest')\n",
    "    plt.show()\n",
    "\n",
    "#scaling to reverse the normalisation we did before\n",
    "def scale(n):\n",
    "    return int(n * 255) \n",
    "\n",
    "#method to return the color in a tuple format (r, g, b)\n",
    "def predict_color(name):\n",
    "    name = name.lower()\n",
    "    tokenized = t.texts_to_sequences([name])\n",
    "    padded = preprocessing.sequence.pad_sequences(tokenized, maxlen=30)\n",
    "    one_hot = np_utils.to_categorical(padded, num_classes=28)\n",
    "    pred = model.predict(np.array(one_hot))[0]\n",
    "    r, g, b = scale(pred[0]), scale(pred[1]), scale(pred[2])\n",
    "    return r, g, b\n",
    "\n",
    "#method to return a plotted color generated by our model\n",
    "def predict_plot(name):\n",
    "    name = name.lower()\n",
    "    tokenized = t.texts_to_sequences([name])\n",
    "    padded = preprocessing.sequence.pad_sequences(tokenized, maxlen=maxlen)\n",
    "    one_hot = np_utils.to_categorical(padded, num_classes=num_classes)\n",
    "    pred = model.predict(np.array(one_hot))[0]\n",
    "    r, g, b = scale(pred[0]), scale(pred[1]), scale(pred[2])\n",
    "    print(name + ',', 'R,G,B:', r,g,b)\n",
    "    plot_rgb(pred) "
   ]
  },
  {
   "cell_type": "markdown",
   "metadata": {},
   "source": [
    "This is the best part for me, let's try and generate some colors"
   ]
  },
  {
   "cell_type": "code",
   "execution_count": 24,
   "metadata": {},
   "outputs": [
    {
     "name": "stdout",
     "output_type": "stream",
     "text": [
      "red, R,G,B: 197 43 37\n"
     ]
    },
    {
     "data": {
      "image/png": "[encoded data removed]",
      "text/plain": [
       "<Figure size 144x144 with 1 Axes>"
      ]
     },
     "metadata": {
      "needs_background": "light"
     },
     "output_type": "display_data"
    },
    {
     "name": "stdout",
     "output_type": "stream",
     "text": [
      "green, R,G,B: 90 167 67\n"
     ]
    },
    {
     "data": {
      "image/png": "[encoded data removed]",
      "text/plain": [
       "<Figure size 144x144 with 1 Axes>"
      ]
     },
     "metadata": {
      "needs_background": "light"
     },
     "output_type": "display_data"
    },
    {
     "name": "stdout",
     "output_type": "stream",
     "text": [
      "blue, R,G,B: 68 124 188\n"
     ]
    },
    {
     "data": {
      "image/png": "[encoded data removed]",
      "text/plain": [
       "<Figure size 144x144 with 1 Axes>"
      ]
     },
     "metadata": {
      "needs_background": "light"
     },
     "output_type": "display_data"
    },
    {
     "name": "stdout",
     "output_type": "stream",
     "text": [
      "yellow, R,G,B: 249 239 132\n"
     ]
    },
    {
     "data": {
      "image/png": "[encoded data removed]",
      "text/plain": [
       "<Figure size 144x144 with 1 Axes>"
      ]
     },
     "metadata": {
      "needs_background": "light"
     },
     "output_type": "display_data"
    },
    {
     "name": "stdout",
     "output_type": "stream",
     "text": [
      "purple, R,G,B: 149 68 173\n"
     ]
    },
    {
     "data": {
      "image/png": "[encoded data removed]",
      "text/plain": [
       "<Figure size 144x144 with 1 Axes>"
      ]
     },
     "metadata": {
      "needs_background": "light"
     },
     "output_type": "display_data"
    }
   ],
   "source": [
    "#normal colors\n",
    "predict_plot(\"red\")\n",
    "predict_plot(\"green\")\n",
    "predict_plot(\"blue\")\n",
    "predict_plot(\"yellow\")\n",
    "predict_plot('purple')"
   ]
  },
  {
   "cell_type": "code",
   "execution_count": 28,
   "metadata": {},
   "outputs": [
    {
     "name": "stdout",
     "output_type": "stream",
     "text": [
      "light blue, R,G,B: 181 218 238\n"
     ]
    },
    {
     "data": {
      "image/png": "[encoded data removed]",
      "text/plain": [
       "<Figure size 144x144 with 1 Axes>"
      ]
     },
     "metadata": {
      "needs_background": "light"
     },
     "output_type": "display_data"
    },
    {
     "name": "stdout",
     "output_type": "stream",
     "text": [
      "dark blue, R,G,B: 5 16 106\n"
     ]
    },
    {
     "data": {
      "image/png": "[encoded data removed]",
      "text/plain": [
       "<Figure size 144x144 with 1 Axes>"
      ]
     },
     "metadata": {
      "needs_background": "light"
     },
     "output_type": "display_data"
    },
    {
     "name": "stdout",
     "output_type": "stream",
     "text": [
      "navy blue, R,G,B: 9 32 87\n"
     ]
    },
    {
     "data": {
      "image/png": "[encoded data removed]",
      "text/plain": [
       "<Figure size 144x144 with 1 Axes>"
      ]
     },
     "metadata": {
      "needs_background": "light"
     },
     "output_type": "display_data"
    }
   ],
   "source": [
    "#shades of blue\n",
    "predict_plot(\"light blue\")\n",
    "predict_plot(\"dark blue\")\n",
    "predict_plot(\"navy blue\")"
   ]
  },
  {
   "cell_type": "code",
   "execution_count": 29,
   "metadata": {},
   "outputs": [
    {
     "name": "stdout",
     "output_type": "stream",
     "text": [
      "autumn, R,G,B: 152 95 52\n"
     ]
    },
    {
     "data": {
      "image/png": "[encoded data removed]",
      "text/plain": [
       "<Figure size 144x144 with 1 Axes>"
      ]
     },
     "metadata": {
      "needs_background": "light"
     },
     "output_type": "display_data"
    },
    {
     "name": "stdout",
     "output_type": "stream",
     "text": [
      "winter, R,G,B: 133 156 168\n"
     ]
    },
    {
     "data": {
      "image/png": "[encoded data removed]",
      "text/plain": [
       "<Figure size 144x144 with 1 Axes>"
      ]
     },
     "metadata": {
      "needs_background": "light"
     },
     "output_type": "display_data"
    },
    {
     "name": "stdout",
     "output_type": "stream",
     "text": [
      "spring, R,G,B: 184 179 166\n"
     ]
    },
    {
     "data": {
      "image/png": "[encoded data removed]",
      "text/plain": [
       "<Figure size 144x144 with 1 Axes>"
      ]
     },
     "metadata": {
      "needs_background": "light"
     },
     "output_type": "display_data"
    },
    {
     "name": "stdout",
     "output_type": "stream",
     "text": [
      "summer, R,G,B: 151 174 157\n"
     ]
    },
    {
     "data": {
      "image/png": "[encoded data removed]",
      "text/plain": [
       "<Figure size 144x144 with 1 Axes>"
      ]
     },
     "metadata": {
      "needs_background": "light"
     },
     "output_type": "display_data"
    }
   ],
   "source": [
    "#4 seasons\n",
    "predict_plot(\"autumn\")\n",
    "predict_plot(\"winter\")\n",
    "predict_plot(\"spring\")\n",
    "predict_plot(\"summer\")"
   ]
  },
  {
   "cell_type": "markdown",
   "metadata": {},
   "source": [
    "the spring and summer are not close to what we expect for their colors to be"
   ]
  },
  {
   "cell_type": "code",
   "execution_count": 30,
   "metadata": {},
   "outputs": [
    {
     "name": "stdout",
     "output_type": "stream",
     "text": [
      "black, R,G,B: 34 31 25\n"
     ]
    },
    {
     "data": {
      "image/png": "[encoded data removed]",
      "text/plain": [
       "<Figure size 144x144 with 1 Axes>"
      ]
     },
     "metadata": {
      "needs_background": "light"
     },
     "output_type": "display_data"
    },
    {
     "name": "stdout",
     "output_type": "stream",
     "text": [
      "white, R,G,B: 245 243 242\n"
     ]
    },
    {
     "data": {
      "image/png": "[encoded data removed]",
      "text/plain": [
       "<Figure size 144x144 with 1 Axes>"
      ]
     },
     "metadata": {
      "needs_background": "light"
     },
     "output_type": "display_data"
    },
    {
     "name": "stdout",
     "output_type": "stream",
     "text": [
      "neon, R,G,B: 159 147 136\n"
     ]
    },
    {
     "data": {
      "image/png": "[encoded data removed]",
      "text/plain": [
       "<Figure size 144x144 with 1 Axes>"
      ]
     },
     "metadata": {
      "needs_background": "light"
     },
     "output_type": "display_data"
    }
   ],
   "source": [
    "#black, white, and neon\n",
    "predict_plot(\"black\")\n",
    "predict_plot(\"white\")\n",
    "predict_plot(\"neon\")"
   ]
  },
  {
   "cell_type": "markdown",
   "metadata": {},
   "source": [
    "Neon is also off, I believe this is due to duplicating the same word in the dataset but with different colors, this leads to averaging the colors and something like mixing paint and getting brown at the end."
   ]
  },
  {
   "cell_type": "code",
   "execution_count": 34,
   "metadata": {},
   "outputs": [
    {
     "data": {
      "text/plain": [
       "word     61\n",
       "red      61\n",
       "green    61\n",
       "blue     61\n",
       "dtype: int64"
      ]
     },
     "execution_count": 34,
     "metadata": {},
     "output_type": "execute_result"
    }
   ],
   "source": [
    "#checking for spring, summer, and neon in the data set\n",
    "df[df['word']=='neon'].count()"
   ]
  },
  {
   "cell_type": "code",
   "execution_count": 37,
   "metadata": {},
   "outputs": [
    {
     "data": {
      "text/plain": [
       "word     50\n",
       "red      50\n",
       "green    50\n",
       "blue     50\n",
       "dtype: int64"
      ]
     },
     "execution_count": 37,
     "metadata": {},
     "output_type": "execute_result"
    }
   ],
   "source": [
    "df[df['word']=='summer'].count()"
   ]
  },
  {
   "cell_type": "code",
   "execution_count": 38,
   "metadata": {},
   "outputs": [
    {
     "data": {
      "text/plain": [
       "word     50\n",
       "red      50\n",
       "green    50\n",
       "blue     50\n",
       "dtype: int64"
      ]
     },
     "execution_count": 38,
     "metadata": {},
     "output_type": "execute_result"
    }
   ],
   "source": [
    "df[df['word']=='spring'].count()"
   ]
  },
  {
   "cell_type": "markdown",
   "metadata": {},
   "source": [
    "Having 50 entries and more for the same word with different colors is a way more than needed, a future improvement can be limiting the reputation of any word in the data set to 5 or 10 entries maximum."
   ]
  },
  {
   "cell_type": "code",
   "execution_count": 39,
   "metadata": {},
   "outputs": [
    {
     "name": "stdout",
     "output_type": "stream",
     "text": [
      "coffee, R,G,B: 120 91 64\n"
     ]
    },
    {
     "data": {
      "image/png": "[encoded data removed]",
      "text/plain": [
       "<Figure size 144x144 with 1 Axes>"
      ]
     },
     "metadata": {
      "needs_background": "light"
     },
     "output_type": "display_data"
    },
    {
     "name": "stdout",
     "output_type": "stream",
     "text": [
      "latte, R,G,B: 189 157 96\n"
     ]
    },
    {
     "data": {
      "image/png": "[encoded data removed]",
      "text/plain": [
       "<Figure size 144x144 with 1 Axes>"
      ]
     },
     "metadata": {
      "needs_background": "light"
     },
     "output_type": "display_data"
    },
    {
     "name": "stdout",
     "output_type": "stream",
     "text": [
      "chocolate, R,G,B: 118 88 64\n"
     ]
    },
    {
     "data": {
      "image/png": "[encoded data removed]",
      "text/plain": [
       "<Figure size 144x144 with 1 Axes>"
      ]
     },
     "metadata": {
      "needs_background": "light"
     },
     "output_type": "display_data"
    },
    {
     "name": "stdout",
     "output_type": "stream",
     "text": [
      "strawberry, R,G,B: 176 86 68\n"
     ]
    },
    {
     "data": {
      "image/png": "[encoded data removed]",
      "text/plain": [
       "<Figure size 144x144 with 1 Axes>"
      ]
     },
     "metadata": {
      "needs_background": "light"
     },
     "output_type": "display_data"
    },
    {
     "name": "stdout",
     "output_type": "stream",
     "text": [
      "royal, R,G,B: 107 71 118\n"
     ]
    },
    {
     "data": {
      "image/png": "[encoded data removed]",
      "text/plain": [
       "<Figure size 144x144 with 1 Axes>"
      ]
     },
     "metadata": {
      "needs_background": "light"
     },
     "output_type": "display_data"
    },
    {
     "name": "stdout",
     "output_type": "stream",
     "text": [
      "ice cream, R,G,B: 243 229 208\n"
     ]
    },
    {
     "data": {
      "image/png": "[encoded data removed]",
      "text/plain": [
       "<Figure size 144x144 with 1 Axes>"
      ]
     },
     "metadata": {
      "needs_background": "light"
     },
     "output_type": "display_data"
    }
   ],
   "source": [
    "#more colors before completing this notebook\n",
    "predict_plot(\"coffee\")\n",
    "predict_plot(\"latte\")\n",
    "predict_plot(\"chocolate\")\n",
    "predict_plot(\"strawberry\")\n",
    "predict_plot(\"royal\")\n",
    "predict_plot(\"ice cream\")"
   ]
  },
  {
   "cell_type": "markdown",
   "metadata": {},
   "source": [
    "### 8- Conclusion\n",
    "Personally speaking, I like the performance of the model, but there is many possibilities for future improvement, such as working more on the dataset, also adding the 2 worded names from the PAT dataset instead of only 1 worded names, and also trying different structures for the neural network. Next step is generating palette using color theory schemes and a GUI. Please refer to the GUI folder to try the GUI program and generating the color palettes."
   ]
  },
  {
   "cell_type": "markdown",
   "metadata": {},
   "source": [
    "### 9- Refrences\n",
    "- Chengwei Zhang (Tony607) blog post:\n",
    "https://www.dlology.com/blog/how-to-train-a-keras-model-to-generate-colors/\n",
    "\n",
    "- Tony607 repository:\n",
    "https://github.com/Tony607/Keras-Colors\n"
   ]
  }
 ],
 "metadata": {
  "interpreter": {
   "hash": "2be5faf79681da6f2a61fdfdd5405d65d042280f7fba6178067603e3a2925119"
  },
  "kernelspec": {
   "display_name": "Python 3.10.2 64-bit",
   "language": "python",
   "name": "python3"
  },
  "language_info": {
   "codemirror_mode": {
    "name": "ipython",
    "version": 3
   },
   "file_extension": ".py",
   "mimetype": "text/x-python",
   "name": "python",
   "nbconvert_exporter": "python",
   "pygments_lexer": "ipython3",
   "version": "3.10.2"
  },
  "orig_nbformat": 4
 },
 "nbformat": 4,
 "nbformat_minor": 2
}
